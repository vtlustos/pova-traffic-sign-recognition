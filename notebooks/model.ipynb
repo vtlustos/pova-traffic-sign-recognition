{
 "cells": [
  {
   "cell_type": "markdown",
   "metadata": {},
   "source": [
    "# YOLOv8 training\n",
    "This part of the project explores capabilites of the YOLOv8 model."
   ]
  },
  {
   "cell_type": "code",
   "execution_count": null,
   "metadata": {},
   "outputs": [],
   "source": [
    "! pip install ultralytics"
   ]
  },
  {
   "cell_type": "code",
   "execution_count": null,
   "metadata": {},
   "outputs": [],
   "source": [
    "import os\n",
    "from ultralytics import YOLO"
   ]
  },
  {
   "cell_type": "code",
   "execution_count": null,
   "metadata": {},
   "outputs": [],
   "source": [
    "BASE_PATH = \"C:\\\\Users\\\\tlust\\\\Downloads\\\\mtsd\\\\yolov8\\\\\"\n",
    "detect_path = os.path.join(BASE_PATH, \"detect\", \"dataset.yaml\")\n",
    "classify_path = os.path.join(BASE_PATH, \"classify\")\n",
    "\n",
    "DOUBLE_STEP = True"
   ]
  },
  {
   "cell_type": "markdown",
   "metadata": {},
   "source": [
    "## One-step fully taxonomy detection + classification to 313 classes\n",
    "Initial experiment to assess the model's default performance across the entire taxonomy. Anticipated to yield suboptimal results due to the extensive number of classes."
   ]
  },
  {
   "cell_type": "code",
   "execution_count": null,
   "metadata": {},
   "outputs": [],
   "source": [
    "if DOUBLE_STEP == False:\n",
    "    #model = YOLO('yolov8n.yaml')  # build a new model from YAML\n",
    "    #model = YOLO('yolov8n.yaml').load('yolov8n.pt')  # build from YAML and transfer weights\n",
    "    model = YOLO(\"yolov8m.pt\")  # load a pretrained model\n",
    "    results = model.train(data=detect_path, epochs=100, imgsz=640, batch=16)\n",
    "    print(results)"
   ]
  },
  {
   "cell_type": "markdown",
   "metadata": {},
   "source": [
    "## 2-stage pipeline\n",
    "Anticipated to yield improved outcomes as a result of decoupling."
   ]
  },
  {
   "cell_type": "markdown",
   "metadata": {},
   "source": [
    "### 1. train binary sign detector"
   ]
  },
  {
   "cell_type": "code",
   "execution_count": null,
   "metadata": {},
   "outputs": [],
   "source": [
    "if DOUBLE_STEP:\n",
    "    #model = YOLO('yolov8n.yaml')                           # build a new model from YAML\n",
    "    #model = YOLO('yolov8n.yaml').load('yolov8n.pt')        # build from YAML and transfer weights\n",
    "    model = YOLO('yolov8n.pt')  # load a pretrained model\n",
    "    results = model.train(data=detect_path, epochs=10, imgsz=640)\n",
    "    print(results)"
   ]
  },
  {
   "cell_type": "markdown",
   "metadata": {},
   "source": [
    "### 2. train sign classifier"
   ]
  },
  {
   "cell_type": "code",
   "execution_count": null,
   "metadata": {},
   "outputs": [],
   "source": [
    "if DOUBLE_STEP:\n",
    "    #model = YOLO('yolov8n-cls.yaml')                           # build a new model from YAML\n",
    "    #model = YOLO('yolov8n-cls.yaml').load('yolov8n-cls.pt')    # build from YAML and transfer weights\n",
    "    model = YOLO('yolov8x-cls.pt')  # load a pretrained model\n",
    "    results = model.train(data=classify_path, epochs=10, imgsz=224, batch=128)\n",
    "    print(results)"
   ]
  },
  {
   "cell_type": "markdown",
   "metadata": {},
   "source": [
    "# MM Lab"
   ]
  },
  {
   "cell_type": "code",
   "execution_count": null,
   "metadata": {},
   "outputs": [],
   "source": [
    "! pip install -q supervision==0.13.0\n",
    "! pip install -q openmim\n",
    "! mim install -q \"mmengine\"\n",
    "! mim install -q \"mmcv\"\n",
    "! mim install -q \"mmdet\""
   ]
  },
  {
   "cell_type": "code",
   "execution_count": null,
   "metadata": {},
   "outputs": [],
   "source": [
    "! git clone https://github.com/open-mmlab/mmdetection.git"
   ]
  },
  {
   "cell_type": "code",
   "execution_count": null,
   "metadata": {},
   "outputs": [],
   "source": [
    "%cd mmdetection\n",
    "! pip install -e ."
   ]
  },
  {
   "cell_type": "code",
   "execution_count": null,
   "metadata": {},
   "outputs": [],
   "source": [
    "import cv2\n",
    "import torch\n",
    "from mmdet.apis import init_detector, inference_detector\n",
    "import supervision as sv"
   ]
  },
  {
   "cell_type": "code",
   "execution_count": null,
   "metadata": {},
   "outputs": [],
   "source": [
    "DEVICE = torch.device('cuda:0' if torch.cuda.is_available() else 'cpu')\n",
    "CONFIG_PATH = \"C:\\\\Users\\\\tlust\\\\Downloads\\\\co_dino_5scale_r50_lsj_8xb2_1x_coco.py\"\n",
    "WEIGHTS_PATH = \"C:\\\\Users\\\\tlust\\\\Downloads\\\\co_dino_5scale_r50_lsj_8xb2_1x_coco-69a72d67.pth\""
   ]
  },
  {
   "cell_type": "code",
   "execution_count": null,
   "metadata": {},
   "outputs": [],
   "source": [
    "model = init_detector(CONFIG_PATH, WEIGHTS_PATH, device=DEVICE)\n",
    "\n",
    "image = cv2.imread(\"C:\\\\Users\\\\tlust\\Downloads\\\\aaa.jpg\")\n",
    "result = inference_detector(model, image)\n",
    "\n",
    "detections = sv.Detections.from_mmdetection(result)\n",
    "detections = detections[detections.confidence > 0.3].with_nms()\n",
    "box_annotator = sv.BoxAnnotator()\n",
    "annotated_image = box_annotator.annotate(image.copy(), detections)\n",
    "sv.plot_image(image=annotated_image, size=(10, 10))"
   ]
  }
 ],
 "metadata": {
  "kernelspec": {
   "display_name": "Python 3",
   "language": "python",
   "name": "python3"
  },
  "language_info": {
   "codemirror_mode": {
    "name": "ipython",
    "version": 3
   },
   "file_extension": ".py",
   "mimetype": "text/x-python",
   "name": "python",
   "nbconvert_exporter": "python",
   "pygments_lexer": "ipython3",
   "version": "3.11.4"
  }
 },
 "nbformat": 4,
 "nbformat_minor": 2
}
