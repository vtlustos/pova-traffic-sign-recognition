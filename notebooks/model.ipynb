{
 "cells": [
  {
   "cell_type": "markdown",
   "metadata": {},
   "source": [
    "# YOLOv8 training\n",
    "This part of the project explores capabilites of the YOLOv8 model."
   ]
  },
  {
   "cell_type": "code",
   "execution_count": null,
   "metadata": {},
   "outputs": [],
   "source": [
    "! pip install ultralytics"
   ]
  },
  {
   "cell_type": "code",
   "execution_count": null,
   "metadata": {},
   "outputs": [],
   "source": [
    "import os\n",
    "from ultralytics import YOLO"
   ]
  },
  {
   "cell_type": "code",
   "execution_count": null,
   "metadata": {},
   "outputs": [],
   "source": [
    "BASE_PATH = \"C:\\\\Users\\\\tlust\\\\Downloads\\\\mtsd\\\\yolov8\\\\\"\n",
    "detect_path = os.path.join(BASE_PATH, \"detect\", \"dataset.yaml\")\n",
    "classify_path = os.path.join(BASE_PATH, \"classify\")\n",
    "\n",
    "DOUBLE_STEP = True"
   ]
  },
  {
   "cell_type": "markdown",
   "metadata": {},
   "source": [
    "## One-step fully taxonomy detection + classification to 313 classes\n",
    "Initial experiment to assess the model's default performance across the entire taxonomy. Anticipated to yield suboptimal results due to the extensive number of classes."
   ]
  },
  {
   "cell_type": "code",
   "execution_count": null,
   "metadata": {},
   "outputs": [],
   "source": [
    "if DOUBLE_STEP == False:\n",
    "    #model = YOLO('yolov8n.yaml')  # build a new model from YAML\n",
    "    #model = YOLO('yolov8n.yaml').load('yolov8n.pt')  # build from YAML and transfer weights\n",
    "    model = YOLO(\"yolov8m.pt\")  # load a pretrained model\n",
    "    results = model.train(data=detect_path, epochs=100, imgsz=640, batch=16)\n",
    "    print(results)"
   ]
  },
  {
   "cell_type": "markdown",
   "metadata": {},
   "source": [
    "## 2-stage pipeline\n",
    "Anticipated to yield improved outcomes as a result of decoupling."
   ]
  },
  {
   "cell_type": "markdown",
   "metadata": {},
   "source": [
    "### 1. train binary sign detector"
   ]
  },
  {
   "cell_type": "code",
   "execution_count": null,
   "metadata": {},
   "outputs": [],
   "source": [
    "if DOUBLE_STEP:\n",
    "    #model = YOLO('yolov8n.yaml')                           # build a new model from YAML\n",
    "    #model = YOLO('yolov8n.yaml').load('yolov8n.pt')        # build from YAML and transfer weights\n",
    "    model = YOLO('yolov8n.pt')  # load a pretrained model\n",
    "    results = model.train(data=detect_path, epochs=10, imgsz=640)\n",
    "    print(results)"
   ]
  },
  {
   "cell_type": "markdown",
   "metadata": {},
   "source": [
    "### 2. train sign classifier"
   ]
  },
  {
   "cell_type": "code",
   "execution_count": null,
   "metadata": {},
   "outputs": [],
   "source": [
    "if DOUBLE_STEP:\n",
    "    #model = YOLO('yolov8n-cls.yaml')                           # build a new model from YAML\n",
    "    #model = YOLO('yolov8n-cls.yaml').load('yolov8n-cls.pt')    # build from YAML and transfer weights\n",
    "    model = YOLO('yolov8x-cls.pt')  # load a pretrained model\n",
    "    results = model.train(data=classify_path, epochs=10, imgsz=224, batch=128)\n",
    "    print(results)"
   ]
  }
 ],
 "metadata": {
  "kernelspec": {
   "display_name": "Python 3",
   "language": "python",
   "name": "python3"
  },
  "language_info": {
   "codemirror_mode": {
    "name": "ipython",
    "version": 3
   },
   "file_extension": ".py",
   "mimetype": "text/x-python",
   "name": "python",
   "nbconvert_exporter": "python",
   "pygments_lexer": "ipython3",
   "version": "3.11.4"
  }
 },
 "nbformat": 4,
 "nbformat_minor": 2
}
