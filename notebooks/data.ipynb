{
 "cells": [
  {
   "cell_type": "markdown",
   "metadata": {},
   "source": [
    "# The Mapillary Traffic Sign Dataset for Detection and Classification on a Global Scale - paper review\n",
    "\n",
    "## Challenges\n",
    "- traffic signs are easily confused with other object classes in street\n",
    "- reflection, low light condition, damages, and occlusion\n",
    "- fine–grained classification\n",
    "- traffic signs are relatively small in size\n",
    "\n",
    "## Dataset Statistics\n",
    "- images: 52,453 fully-anotated 47,547 partialy-anotated\n",
    "- sign categories: 313 + 1 (other sign)\n",
    "- total signs: 257 543\n",
    "\n",
    "| train  | dev   | test   |\n",
    "|--------|-------|--------|\n",
    "| 36 589 | 5 320 | 10 544 |\n",
    "\n",
    "- distribution plots are present in the paper\n",
    "\n",
    "##  Annotation Process \n",
    "The annotations were done by 15 experts trained on this task. The authors continuously controlled the quality of annotations. At least two annotators must have seen each image. To further validate the quality of annotations, they runed separate annotation experiment over smaller subset of images and cross-checked the results showing only minor differences.\n",
    "\n",
    "### 1. Selection\n",
    "The images were selected using the following criteria:\n",
    "- uniform geographical distribution of images around the world (weighted by continent population)\n",
    "- to cover images of different quality, captured under varying conditions\n",
    "- to include as many signs as possible per image\n",
    "- to compensate for the long-tailed distribution of potential traffic\n",
    "sign classes\n",
    "\n",
    "### 2. Annotation\n",
    "The annotation pipeline consisted of 3 steps:\n",
    "1. Image Approval: the annotators should have ensured that the data fulfil the dataset criteria since the pre-selection was automatically\n",
    "2. Sign Localization: The bounding boxes were pre-generated automatically. The annotators were asked to verify and adjust the bounding boxes to fit all traffic signs in the image.\n",
    "3. Sign Classification: The annotators were asked to provide a correct class label for show sign (determined by box). This was not trivial since they used 313 classes. Thereby, the signs were pre-annotated automatically using a proposal network.\n",
    "\n",
    "## Baseline\n",
    "- Faster R-CNN with ResNet50 and ResNet101 back-bones\n",
    "- two tasks: detection only and detection + classification\n",
    "- ResNet50: 83.4 mAP over all 313 classes\n",
    "- their best performing approach used 2 stage pipeline: 1. binary object detection, 2. multi-class classification using a decoupled shallow classification network\n"
   ]
  },
  {
   "cell_type": "code",
   "execution_count": null,
   "metadata": {},
   "outputs": [],
   "source": []
  }
 ],
 "metadata": {
  "language_info": {
   "name": "python"
  }
 },
 "nbformat": 4,
 "nbformat_minor": 2
}
